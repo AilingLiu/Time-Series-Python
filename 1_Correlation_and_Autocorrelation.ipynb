{
  "nbformat": 4,
  "nbformat_minor": 0,
  "metadata": {
    "colab": {
      "provenance": [],
      "mount_file_id": "1eNc_0vUYImqmqDO65khcS_lw0GnssVvE",
      "authorship_tag": "ABX9TyMDFMqfb2U4n1CWvVgxxawO",
      "include_colab_link": true
    },
    "kernelspec": {
      "name": "python3",
      "display_name": "Python 3"
    },
    "language_info": {
      "name": "python"
    }
  },
  "cells": [
    {
      "cell_type": "markdown",
      "metadata": {
        "id": "view-in-github",
        "colab_type": "text"
      },
      "source": [
        "<a href=\"https://colab.research.google.com/github/AilingLiu/Time-Series-Python/blob/main/1_Correlation_and_Autocorrelation.ipynb\" target=\"_parent\"><img src=\"https://colab.research.google.com/assets/colab-badge.svg\" alt=\"Open In Colab\"/></a>"
      ]
    },
    {
      "cell_type": "code",
      "source": [],
      "metadata": {
        "id": "k-GMbLOHWDPh"
      },
      "execution_count": null,
      "outputs": []
    },
    {
      "cell_type": "markdown",
      "source": [
        "# Correlation of Two Time Series\n",
        "\n",
        "- we can use scatter plot to check the correlation, between -1 to 1, where -1 or 1 being absolutely correlated.\n",
        "- beawere of two correlated series may not have the same intensity of its percentage change"
      ],
      "metadata": {
        "id": "ftjTaKanWJl3"
      }
    },
    {
      "cell_type": "code",
      "execution_count": 2,
      "metadata": {
        "id": "8b3YxS45WAUI"
      },
      "outputs": [],
      "source": [
        "import pandas as pd\n",
        "import requests, zipfile, io\n",
        "\n",
        "ufo = pd.read_csv('https://assets.datacamp.com/production/repositories/1120/datasets/c89d2158693af7d555a008198629d93aa059236e/UFO.csv')\n",
        "temperature = pd.read_csv('https://assets.datacamp.com/production/repositories/1120/datasets/850e5614f8de4b134f40b4eeca27c7d0b91aeed2/NOAA_TAVG.csv')\n",
        "\n",
        "r = requests.get('https://github.com/AilingLiu/Time-Series-Python/raw/main/data.zip')\n",
        "z = zipfile.ZipFile(io.BytesIO(r.content))\n",
        "z.extractall()\n",
        "dow=pd.read_csv('data/DJI.csv', sep=',')\n",
        "ufo.index=pd.to_datetime(ufo['Date'], format='%Y')\n",
        "ufo.columns=['ufo_date', 'sights']\n",
        "\n",
        "temperature.index=pd.to_datetime(temperature['DATE'], format='%Y')\n",
        "\n",
        "dow.index=pd.to_datetime(dow['Date'], format='%Y')\n",
        "dow.columns=['dow_date', 'dow_value']\n",
        "\n",
        "ufo_dow = ufo.join(dow, how='inner')"
      ]
    },
    {
      "cell_type": "code",
      "source": [
        "z.namelist()"
      ],
      "metadata": {
        "colab": {
          "base_uri": "https://localhost:8080/"
        },
        "id": "I0TYR1TDwQUg",
        "outputId": "5c6a457f-a3a9-4038-f67d-1903597cf3b3"
      },
      "execution_count": 39,
      "outputs": [
        {
          "output_type": "execute_result",
          "data": {
            "text/plain": [
              "['data/',\n",
              " 'data/.DS_Store',\n",
              " '__MACOSX/',\n",
              " '__MACOSX/data/',\n",
              " '__MACOSX/data/._.DS_Store',\n",
              " 'data/AMZN.csv',\n",
              " '__MACOSX/data/._AMZN.csv',\n",
              " 'data/CME_HO1.csv',\n",
              " '__MACOSX/data/._CME_HO1.csv',\n",
              " 'data/CME_NG1.csv',\n",
              " '__MACOSX/data/._CME_NG1.csv',\n",
              " 'data/DJI.csv',\n",
              " '__MACOSX/data/._DJI.csv',\n",
              " 'data/HRB.csv',\n",
              " '__MACOSX/data/._HRB.csv',\n",
              " 'data/MSFT.csv',\n",
              " '__MACOSX/data/._MSFT.csv',\n",
              " 'data/Sprint_Intraday.txt',\n",
              " '__MACOSX/data/._Sprint_Intraday.txt']"
            ]
          },
          "metadata": {},
          "execution_count": 39
        }
      ]
    },
    {
      "cell_type": "code",
      "source": [
        "ufo_dow.info()"
      ],
      "metadata": {
        "colab": {
          "base_uri": "https://localhost:8080/"
        },
        "id": "kds9GH2wd8ZJ",
        "outputId": "47f22bd5-47ca-4e22-ca51-88978b392b64"
      },
      "execution_count": 3,
      "outputs": [
        {
          "output_type": "stream",
          "name": "stdout",
          "text": [
            "<class 'pandas.core.frame.DataFrame'>\n",
            "DatetimeIndex: 73 entries, 1941-01-01 to 2013-01-01\n",
            "Data columns (total 4 columns):\n",
            " #   Column     Non-Null Count  Dtype  \n",
            "---  ------     --------------  -----  \n",
            " 0   ufo_date   73 non-null     int64  \n",
            " 1   sights     73 non-null     int64  \n",
            " 2   dow_date   73 non-null     int64  \n",
            " 3   dow_value  73 non-null     float64\n",
            "dtypes: float64(1), int64(3)\n",
            "memory usage: 4.9 KB\n"
          ]
        }
      ]
    },
    {
      "cell_type": "code",
      "source": [
        "import seaborn as sns\n",
        "import matplotlib.pyplot as plt\n",
        "\n",
        "fig, (ax, ax1) = plt.subplots(1,2, figsize=(10, 5))\n",
        "\n",
        "ax.plot(ufo_dow.index, ufo_dow.sights, label='UFO Sights', c='green')\n",
        "# ax2=ax.twinx()\n",
        "ax.plot(ufo_dow.index, ufo_dow.dow_value, label='New York Avg. Temperature', c='blue')\n",
        "ax.legend(loc=2)\n",
        "ax.grid()\n",
        "ax.set_title('Trending Time Series')\n",
        "\n",
        "ax1.scatter(ufo_dow.sights, ufo_dow.dow_value)\n",
        "ax1.set_title('Scatter Plot of UFO Sights vs DoW Value')\n",
        "plt.show()"
      ],
      "metadata": {
        "colab": {
          "base_uri": "https://localhost:8080/",
          "height": 468
        },
        "id": "k_kPGnBvXhKn",
        "outputId": "bd23432d-c91d-4936-9027-d61d2b3c929c"
      },
      "execution_count": 6,
      "outputs": [
        {
          "output_type": "display_data",
          "data": {
            "text/plain": [
              "<Figure size 1000x500 with 2 Axes>"
            ],
            "image/png": "[encoded data removed]"
          },
          "metadata": {}
        }
      ]
    },
    {
      "cell_type": "code",
      "source": [
        "# correlation of levels\n",
        "ufo_dow[['sights', 'dow_value']].corr()"
      ],
      "metadata": {
        "colab": {
          "base_uri": "https://localhost:8080/",
          "height": 112
        },
        "id": "ksTl6tBfXikV",
        "outputId": "7e026bf5-8df4-4eeb-d490-d41256e60e27"
      },
      "execution_count": 42,
      "outputs": [
        {
          "output_type": "execute_result",
          "data": {
            "text/plain": [
              "             sights  dow_value\n",
              "sights     1.000000   0.939976\n",
              "dow_value  0.939976   1.000000"
            ],
            "text/html": [
              "\n",
              "  <div id=\"df-c1599cb4-d04f-42e7-9472-2c43873ac8f6\">\n",
              "    <div class=\"colab-df-container\">\n",
              "      <div>\n",
              "<style scoped>\n",
              "    .dataframe tbody tr th:only-of-type {\n",
              "        vertical-align: middle;\n",
              "    }\n",
              "\n",
              "    .dataframe tbody tr th {\n",
              "        vertical-align: top;\n",
              "    }\n",
              "\n",
              "    .dataframe thead th {\n",
              "        text-align: right;\n",
              "    }\n",
              "</style>\n",
              "<table border=\"1\" class=\"dataframe\">\n",
              "  <thead>\n",
              "    <tr style=\"text-align: right;\">\n",
              "      <th></th>\n",
              "      <th>sights</th>\n",
              "      <th>dow_value</th>\n",
              "    </tr>\n",
              "  </thead>\n",
              "  <tbody>\n",
              "    <tr>\n",
              "      <th>sights</th>\n",
              "      <td>1.000000</td>\n",
              "      <td>0.939976</td>\n",
              "    </tr>\n",
              "    <tr>\n",
              "      <th>dow_value</th>\n",
              "      <td>0.939976</td>\n",
              "      <td>1.000000</td>\n",
              "    </tr>\n",
              "  </tbody>\n",
              "</table>\n",
              "</div>\n",
              "      <button class=\"colab-df-convert\" onclick=\"convertToInteractive('df-c1599cb4-d04f-42e7-9472-2c43873ac8f6')\"\n",
              "              title=\"Convert this dataframe to an interactive table.\"\n",
              "              style=\"display:none;\">\n",
              "        \n",
              "  <svg xmlns=\"http://www.w3.org/2000/svg\" height=\"24px\"viewBox=\"0 0 24 24\"\n",
              "       width=\"24px\">\n",
              "    <path d=\"M0 0h24v24H0V0z\" fill=\"none\"/>\n",
              "    <path d=\"M18.56 5.44l.94 2.06.94-2.06 2.06-.94-2.06-.94-.94-2.06-.94 2.06-2.06.94zm-11 1L8.5 8.5l.94-2.06 2.06-.94-2.06-.94L8.5 2.5l-.94 2.06-2.06.94zm10 10l.94 2.06.94-2.06 2.06-.94-2.06-.94-.94-2.06-.94 2.06-2.06.94z\"/><path d=\"M17.41 7.96l-1.37-1.37c-.4-.4-.92-.59-1.43-.59-.52 0-1.04.2-1.43.59L10.3 9.45l-7.72 7.72c-.78.78-.78 2.05 0 2.83L4 21.41c.39.39.9.59 1.41.59.51 0 1.02-.2 1.41-.59l7.78-7.78 2.81-2.81c.8-.78.8-2.07 0-2.86zM5.41 20L4 18.59l7.72-7.72 1.47 1.35L5.41 20z\"/>\n",
              "  </svg>\n",
              "      </button>\n",
              "      \n",
              "  <style>\n",
              "    .colab-df-container {\n",
              "      display:flex;\n",
              "      flex-wrap:wrap;\n",
              "      gap: 12px;\n",
              "    }\n",
              "\n",
              "    .colab-df-convert {\n",
              "      background-color: #E8F0FE;\n",
              "      border: none;\n",
              "      border-radius: 50%;\n",
              "      cursor: pointer;\n",
              "      display: none;\n",
              "      fill: #1967D2;\n",
              "      height: 32px;\n",
              "      padding: 0 0 0 0;\n",
              "      width: 32px;\n",
              "    }\n",
              "\n",
              "    .colab-df-convert:hover {\n",
              "      background-color: #E2EBFA;\n",
              "      box-shadow: 0px 1px 2px rgba(60, 64, 67, 0.3), 0px 1px 3px 1px rgba(60, 64, 67, 0.15);\n",
              "      fill: #174EA6;\n",
              "    }\n",
              "\n",
              "    [theme=dark] .colab-df-convert {\n",
              "      background-color: #3B4455;\n",
              "      fill: #D2E3FC;\n",
              "    }\n",
              "\n",
              "    [theme=dark] .colab-df-convert:hover {\n",
              "      background-color: #434B5C;\n",
              "      box-shadow: 0px 1px 3px 1px rgba(0, 0, 0, 0.15);\n",
              "      filter: drop-shadow(0px 1px 2px rgba(0, 0, 0, 0.3));\n",
              "      fill: #FFFFFF;\n",
              "    }\n",
              "  </style>\n",
              "\n",
              "      <script>\n",
              "        const buttonEl =\n",
              "          document.querySelector('#df-c1599cb4-d04f-42e7-9472-2c43873ac8f6 button.colab-df-convert');\n",
              "        buttonEl.style.display =\n",
              "          google.colab.kernel.accessAllowed ? 'block' : 'none';\n",
              "\n",
              "        async function convertToInteractive(key) {\n",
              "          const element = document.querySelector('#df-c1599cb4-d04f-42e7-9472-2c43873ac8f6');\n",
              "          const dataTable =\n",
              "            await google.colab.kernel.invokeFunction('convertToInteractive',\n",
              "                                                     [key], {});\n",
              "          if (!dataTable) return;\n",
              "\n",
              "          const docLinkHtml = 'Like what you see? Visit the ' +\n",
              "            '<a target=\"_blank\" href=https://colab.research.google.com/notebooks/data_table.ipynb>data table notebook</a>'\n",
              "            + ' to learn more about interactive tables.';\n",
              "          element.innerHTML = '';\n",
              "          dataTable['output_type'] = 'display_data';\n",
              "          await google.colab.output.renderOutput(dataTable, element);\n",
              "          const docLink = document.createElement('div');\n",
              "          docLink.innerHTML = docLinkHtml;\n",
              "          element.appendChild(docLink);\n",
              "        }\n",
              "      </script>\n",
              "    </div>\n",
              "  </div>\n",
              "  "
            ]
          },
          "metadata": {},
          "execution_count": 42
        }
      ]
    },
    {
      "cell_type": "code",
      "source": [
        "# correlation of percent changes\n",
        "ufo_dow['sights'].pct_change().corr(ufo_dow['dow_value'].pct_change(), method='pearson')"
      ],
      "metadata": {
        "colab": {
          "base_uri": "https://localhost:8080/"
        },
        "id": "Znw1md8afUvo",
        "outputId": "d540c6c0-1049-4773-f4a3-15303f37b55d"
      },
      "execution_count": 46,
      "outputs": [
        {
          "output_type": "execute_result",
          "data": {
            "text/plain": [
              "0.06026935462405376"
            ]
          },
          "metadata": {},
          "execution_count": 46
        }
      ]
    },
    {
      "cell_type": "code",
      "source": [
        "\n",
        "\n"
      ],
      "metadata": {
        "id": "bc3ZWGvMfznL"
      },
      "execution_count": null,
      "outputs": []
    },
    {
      "cell_type": "markdown",
      "source": [
        "# Simple Linear Regression\n",
        "\n",
        "- $y_t=\\alpha+\\beta x_t + \\epsilon_t$\n",
        "- simple linear regression is also known as Ordinary Least Squares (OLS), because it minimizes the sum of the squared distances between the data points and the regression line.\n",
        "- python packages to perform regression\n",
        "\n",
        "- In statesmodels:\n",
        "```\n",
        "import statsmodels.api as sm\n",
        "sm.OLS(y, x).fit()\n",
        "```\n",
        "\n",
        "- In numpy\n",
        "```\n",
        "np.plolyfit(x, y, deg=1)\n",
        "```\n",
        "\n",
        "- In pandas:\n",
        "```\n",
        "pd.ols(y,x)\n",
        "```\n",
        "\n",
        "- In scipy:\n",
        "```\n",
        "from scipy import stats\n",
        "stats.linregress(x, y)\n",
        "```\n",
        "\n",
        "Warning: the order of x and y is not consistent across packages."
      ],
      "metadata": {
        "id": "QuDN6SULi4km"
      }
    },
    {
      "cell_type": "code",
      "source": [
        "import statsmodels.api as sm\n",
        "\n",
        "dfx = ufo_dow[['sights']]\n",
        "dfx1=sm.add_constant(dfx)\n",
        "\n",
        "result=sm.OLS(ufo_dow['dow_value'], dfx1).fit()\n",
        "\n",
        "print(result.summary())"
      ],
      "metadata": {
        "colab": {
          "base_uri": "https://localhost:8080/"
        },
        "id": "NbR9LXMvj_c6",
        "outputId": "476c4653-8b75-4099-9f47-50f2f26b4fdf"
      },
      "execution_count": 13,
      "outputs": [
        {
          "output_type": "stream",
          "name": "stdout",
          "text": [
            "                            OLS Regression Results                            \n",
            "==============================================================================\n",
            "Dep. Variable:              dow_value   R-squared:                       0.884\n",
            "Model:                            OLS   Adj. R-squared:                  0.882\n",
            "Method:                 Least Squares   F-statistic:                     538.7\n",
            "Date:                Wed, 17 May 2023   Prob (F-statistic):           7.05e-35\n",
            "Time:                        21:32:07   Log-Likelihood:                -638.10\n",
            "No. Observations:                  73   AIC:                             1280.\n",
            "Df Residuals:                      71   BIC:                             1285.\n",
            "Df Model:                           1                                         \n",
            "Covariance Type:            nonrobust                                         \n",
            "==============================================================================\n",
            "                 coef    std err          t      P>|t|      [0.025      0.975]\n",
            "------------------------------------------------------------------------------\n",
            "const        998.5938    209.072      4.776      0.000     581.716    1415.472\n",
            "sights         2.3231      0.100     23.211      0.000       2.124       2.523\n",
            "==============================================================================\n",
            "Omnibus:                       12.896   Durbin-Watson:                   0.596\n",
            "Prob(Omnibus):                  0.002   Jarque-Bera (JB):               19.893\n",
            "Skew:                           0.660   Prob(JB):                     4.79e-05\n",
            "Kurtosis:                       5.191   Cond. No.                     2.43e+03\n",
            "==============================================================================\n",
            "\n",
            "Notes:\n",
            "[1] Standard Errors assume that the covariance matrix of the errors is correctly specified.\n",
            "[2] The condition number is large, 2.43e+03. This might indicate that there are\n",
            "strong multicollinearity or other numerical problems.\n"
          ]
        }
      ]
    },
    {
      "cell_type": "code",
      "source": [
        "# the quared root of R-squared is correlation\n",
        "0.884**0.5"
      ],
      "metadata": {
        "colab": {
          "base_uri": "https://localhost:8080/"
        },
        "id": "FWXT7L4_ntTx",
        "outputId": "f720c5cf-ff22-4b35-c2c0-cae53f31c6cc"
      },
      "execution_count": 14,
      "outputs": [
        {
          "output_type": "execute_result",
          "data": {
            "text/plain": [
              "0.9402127418834527"
            ]
          },
          "metadata": {},
          "execution_count": 14
        }
      ]
    },
    {
      "cell_type": "code",
      "source": [
        "# constant\n",
        "result.params[0]"
      ],
      "metadata": {
        "colab": {
          "base_uri": "https://localhost:8080/"
        },
        "id": "SQSp-95CoY9o",
        "outputId": "ac95e2d9-0e81-4cab-ae6c-2953560a2b89"
      },
      "execution_count": 16,
      "outputs": [
        {
          "output_type": "execute_result",
          "data": {
            "text/plain": [
              "998.5937904544492"
            ]
          },
          "metadata": {},
          "execution_count": 16
        }
      ]
    },
    {
      "cell_type": "code",
      "source": [
        "# slope\n",
        "result.params[1]"
      ],
      "metadata": {
        "colab": {
          "base_uri": "https://localhost:8080/"
        },
        "id": "QSBNvxLinuKD",
        "outputId": "0b7b6c0b-7b17-42e1-8aef-a3777c5ab570"
      },
      "execution_count": 18,
      "outputs": [
        {
          "output_type": "execute_result",
          "data": {
            "text/plain": [
              "2.323073722942426"
            ]
          },
          "metadata": {},
          "execution_count": 18
        }
      ]
    },
    {
      "cell_type": "markdown",
      "source": [
        "## Relationship between R-squared and Correlation\n",
        "\n",
        "- $[corr(x,y)]^2 = R^2$ (or R-squared)\n",
        "- sign(corr)=sign(regression slope)"
      ],
      "metadata": {
        "id": "X5RSsVO5onZB"
      }
    },
    {
      "cell_type": "markdown",
      "source": [
        "# Autocorrelation\n",
        "\n",
        "- seriel correlation: lag-one autocorrelation\n",
        "- Following large jumps, either up or down, stock prices tend to reverse. This is described as **mean reversion** in stock prices: prices tend to bounce back, or revert, towards previous levels after large moves, which are observed over time horizons of about a week. A more mathematical way to describe mean reversion is to say that stock returns are negatively autocorrelated."
      ],
      "metadata": {
        "id": "lFfupC9qrFsR"
      }
    },
    {
      "cell_type": "code",
      "source": [
        "MSFT=pd.read_csv('data/MSFT.csv', sep=',')\n",
        "\n",
        "# Convert the daily data to weekly data\n",
        "MSFT.index=pd.to_datetime(MSFT['Date'])\n",
        "MSFT = MSFT.resample('W').last().drop(columns='Date')\n",
        "# Compute the percentage change of prices\n",
        "returns = MSFT.pct_change()\n",
        "# Compute and print the autocorrelation of returns\n",
        "autocorrelation = returns['Adj Close'].autocorr()\n",
        "print(\"The autocorrelation of weekly returns is %4.2f\" %(autocorrelation))"
      ],
      "metadata": {
        "colab": {
          "base_uri": "https://localhost:8080/"
        },
        "id": "yRT9kUXknxdd",
        "outputId": "b0e88d9b-4836-4c66-b695-aeb647a04f12"
      },
      "execution_count": 37,
      "outputs": [
        {
          "output_type": "stream",
          "name": "stdout",
          "text": [
            "The autocorrelation of weekly returns is -0.16\n"
          ]
        }
      ]
    },
    {
      "cell_type": "markdown",
      "source": [
        "Notice how the autocorrelation of returns for MSFT is negative, so the stock is 'mean reverting'."
      ],
      "metadata": {
        "id": "utDBQTbsuMxE"
      }
    },
    {
      "cell_type": "code",
      "source": [
        "daily_rates=pd.read_csv('data/AMZN.csv', sep=',')\n",
        "# Convert the daily data to weekly data\n",
        "daily_rates.index=pd.to_datetime(daily_rates['Date'])\n",
        "daily_rates = daily_rates.drop(columns='Date')\n",
        "\n",
        "# Compute the daily change in interest rates \n",
        "daily_diff = daily_rates.diff()\n",
        "\n",
        "# Compute and print the autocorrelation of daily changes\n",
        "autocorrelation_daily = daily_diff['Adj Close'].autocorr()\n",
        "print(\"The autocorrelation of daily interest rate changes is %4.2f\" %(autocorrelation_daily))\n",
        "\n",
        "# Convert the daily data to annual data\n",
        "yearly_rates = daily_rates.resample('A').last()\n",
        "\n",
        "# Repeat above for annual data\n",
        "yearly_diff = yearly_rates.diff()\n",
        "autocorrelation_yearly = yearly_diff['Adj Close'].autocorr()\n",
        "print(\"The autocorrelation of annual interest rate changes is %4.2f\" %(autocorrelation_yearly))\n",
        "\n"
      ],
      "metadata": {
        "colab": {
          "base_uri": "https://localhost:8080/"
        },
        "id": "YN0gYrYVsc8B",
        "outputId": "8d86c9a5-b93f-4b91-fb81-13d373a36b34"
      },
      "execution_count": 47,
      "outputs": [
        {
          "output_type": "stream",
          "name": "stdout",
          "text": [
            "The autocorrelation of daily interest rate changes is 0.01\n",
            "The autocorrelation of annual interest rate changes is -0.15\n"
          ]
        }
      ]
    },
    {
      "cell_type": "markdown",
      "source": [
        "When you look at daily changes in interest rates, the autocorrelation is close to zero. However, if you resample the data and look at annual changes, the autocorrelation is negative. This implies that while short term changes in interest rates may be uncorrelated, long term changes in interest rates are negatively autocorrelated. A daily move up or down in interest rates is unlikely to tell you anything about interest rates tomorrow, but a move in interest rates over a year can tell you something about where interest rates are going over the next year. And this makes some economic sense: over long horizons, when interest rates go up, the economy tends to slow down, which consequently causes interest rates to fall, and vice versa."
      ],
      "metadata": {
        "id": "t983-D5exk44"
      }
    },
    {
      "cell_type": "code",
      "source": [],
      "metadata": {
        "id": "T-IkuFtstTY1"
      },
      "execution_count": null,
      "outputs": []
    }
  ]
}